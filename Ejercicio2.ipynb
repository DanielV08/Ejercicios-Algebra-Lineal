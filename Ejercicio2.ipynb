{
 "cells": [
  {
   "cell_type": "markdown",
   "metadata": {},
   "source": [
    "# SVD y PCA: Ejercicio 2"
   ]
  },
  {
   "cell_type": "markdown",
   "metadata": {},
   "source": [
    "## 1 Bajar los datos con columnas [’target’,’columna1’, ’columna2’, . . ., ’columnaN’] e.g. [’municipio’,’indicador uno’,’indicador dos’, ’indicador 20’]:"
   ]
  },
  {
   "cell_type": "code",
   "execution_count": 2,
   "metadata": {},
   "outputs": [
    {
     "data": {
      "text/html": [
       "<div>\n",
       "<style scoped>\n",
       "    .dataframe tbody tr th:only-of-type {\n",
       "        vertical-align: middle;\n",
       "    }\n",
       "\n",
       "    .dataframe tbody tr th {\n",
       "        vertical-align: top;\n",
       "    }\n",
       "\n",
       "    .dataframe thead th {\n",
       "        text-align: right;\n",
       "    }\n",
       "</style>\n",
       "<table border=\"1\" class=\"dataframe\">\n",
       "  <thead>\n",
       "    <tr style=\"text-align: right;\">\n",
       "      <th></th>\n",
       "      <th>Target</th>\n",
       "      <th>Columna1</th>\n",
       "      <th>Columna2</th>\n",
       "      <th>Columna3</th>\n",
       "      <th>Columna4</th>\n",
       "      <th>Columna5</th>\n",
       "      <th>Columna6</th>\n",
       "    </tr>\n",
       "  </thead>\n",
       "  <tbody>\n",
       "    <tr>\n",
       "      <th>0</th>\n",
       "      <td>a</td>\n",
       "      <td>5.44</td>\n",
       "      <td>4.27</td>\n",
       "      <td>6.03</td>\n",
       "      <td>5.86</td>\n",
       "      <td>4.73</td>\n",
       "      <td>4.05</td>\n",
       "    </tr>\n",
       "    <tr>\n",
       "      <th>1</th>\n",
       "      <td>a</td>\n",
       "      <td>7.25</td>\n",
       "      <td>4.36</td>\n",
       "      <td>5.57</td>\n",
       "      <td>7.56</td>\n",
       "      <td>5.68</td>\n",
       "      <td>3.00</td>\n",
       "    </tr>\n",
       "    <tr>\n",
       "      <th>2</th>\n",
       "      <td>a</td>\n",
       "      <td>5.62</td>\n",
       "      <td>5.22</td>\n",
       "      <td>5.46</td>\n",
       "      <td>7.75</td>\n",
       "      <td>4.11</td>\n",
       "      <td>4.74</td>\n",
       "    </tr>\n",
       "    <tr>\n",
       "      <th>3</th>\n",
       "      <td>a</td>\n",
       "      <td>6.84</td>\n",
       "      <td>4.72</td>\n",
       "      <td>5.71</td>\n",
       "      <td>5.78</td>\n",
       "      <td>3.10</td>\n",
       "      <td>5.32</td>\n",
       "    </tr>\n",
       "    <tr>\n",
       "      <th>4</th>\n",
       "      <td>b</td>\n",
       "      <td>5.71</td>\n",
       "      <td>6.15</td>\n",
       "      <td>5.67</td>\n",
       "      <td>7.26</td>\n",
       "      <td>5.55</td>\n",
       "      <td>4.32</td>\n",
       "    </tr>\n",
       "  </tbody>\n",
       "</table>\n",
       "</div>"
      ],
      "text/plain": [
       "  Target  Columna1  Columna2  Columna3  Columna4  Columna5  Columna6\n",
       "0      a      5.44      4.27      6.03      5.86      4.73      4.05\n",
       "1      a      7.25      4.36      5.57      7.56      5.68      3.00\n",
       "2      a      5.62      5.22      5.46      7.75      4.11      4.74\n",
       "3      a      6.84      4.72      5.71      5.78      3.10      5.32\n",
       "4      b      5.71      6.15      5.67      7.26      5.55      4.32"
      ]
     },
     "execution_count": 2,
     "metadata": {},
     "output_type": "execute_result"
    }
   ],
   "source": [
    "import pandas as pd\n",
    "import numpy as np\n",
    "import matplotlib.pyplot as plt\n",
    "data = 'Datos.csv'\n",
    "df = pd.read_csv(data)\n",
    "df.head()"
   ]
  },
  {
   "cell_type": "markdown",
   "metadata": {},
   "source": [
    "## 2 Se definen las ‘features’ (las columnas del dataframe data a las que les vamos a aplicar el PCA):"
   ]
  },
  {
   "cell_type": "code",
   "execution_count": 3,
   "metadata": {},
   "outputs": [],
   "source": [
    "features = ['Columna1', 'Columna2', 'Columna3', 'Columna4', 'Columna5', 'Columna6']"
   ]
  },
  {
   "cell_type": "markdown",
   "metadata": {},
   "source": [
    "## 3 Se separan las características:"
   ]
  },
  {
   "cell_type": "code",
   "execution_count": 4,
   "metadata": {},
   "outputs": [],
   "source": [
    "x = df.loc[:, features].values"
   ]
  },
  {
   "cell_type": "markdown",
   "metadata": {},
   "source": [
    "## 4 Se separan el target:"
   ]
  },
  {
   "cell_type": "code",
   "execution_count": 5,
   "metadata": {},
   "outputs": [],
   "source": [
    "y = df.loc[:,['Target']].values"
   ]
  },
  {
   "cell_type": "markdown",
   "metadata": {},
   "source": [
    "## 5 Se estandarizan las características:"
   ]
  },
  {
   "cell_type": "code",
   "execution_count": 6,
   "metadata": {},
   "outputs": [],
   "source": [
    " from sklearn.preprocessing import StandardScaler"
   ]
  },
  {
   "cell_type": "code",
   "execution_count": 7,
   "metadata": {},
   "outputs": [
    {
     "data": {
      "text/plain": [
       "array([[-1.21463437, -1.3418933 , -0.46657647, -1.35271458, -1.27908834,\n",
       "        -0.98769258],\n",
       "       [-0.24388035, -1.26635279, -0.94693122, -0.3961471 , -0.8856112 ,\n",
       "        -1.57118527],\n",
       "       [-1.11809529, -0.54452121, -1.06179866, -0.28923662, -1.53588395,\n",
       "        -0.60425453],\n",
       "       [-0.4637749 , -0.96419073, -0.8007363 , -1.39772952, -1.95421228,\n",
       "        -0.28194428],\n",
       "       [-1.06982576,  0.23606411, -0.84250628, -0.56495313, -0.93945544,\n",
       "        -0.8376516 ],\n",
       "       [-0.4637749 , -0.73756919,  0.12864573, -0.19920674, -1.96663787,\n",
       "        -0.25971599],\n",
       "       [-1.21463437,  0.16052359, -0.43524898, -0.25547542, -0.91046238,\n",
       "        -0.41531404],\n",
       "       [-0.37259911, -0.01573761, -1.13489613, -0.56495313, -1.76782837,\n",
       "        -0.04854721],\n",
       "       [-1.49888831,  0.90753534,  0.83873537, -2.7875658 ,  0.52262278,\n",
       "        -0.74873843],\n",
       "       [ 1.23102217, -1.3418933 , -1.40640099, -1.75222218, -1.014009  ,\n",
       "        -0.27638721],\n",
       "       [-2.45355248, -0.51094764,  1.54882502, -0.19357987,  0.77527653,\n",
       "        -0.39864282],\n",
       "       [ 0.41580333, -2.40785389,  1.15201022, -0.20483361,  0.03802462,\n",
       "        -1.34890234],\n",
       "       [-0.3457827 , -0.20878559, -0.89471875, -0.18232614, -1.2832302 ,\n",
       "         0.0125806 ],\n",
       "       [-1.02155622, -0.65363528, -0.4039215 ,  0.97680857,  0.66344618,\n",
       "        -1.0877199 ],\n",
       "       [-0.56567726, -0.25914593, -0.62321389, -2.01105808,  0.90367433,\n",
       "        -0.32640087],\n",
       "       [ 0.34071738, -1.24117262, -0.41436399, -0.15981867, -1.00986714,\n",
       "        -0.33195794],\n",
       "       [ 1.23102217, -0.4605873 ,  0.34793812, -0.63810241, -1.99563092,\n",
       "        -1.19886136],\n",
       "       [ 0.42116661, -1.17402549, -0.13241663, -0.46929638, -1.19625105,\n",
       "        -0.17080282],\n",
       "       [-1.19318124, -0.14163846,  0.52546053, -1.40898326,  0.62202753,\n",
       "        -0.3208438 ],\n",
       "       [-1.27363047,  0.51304599, -1.31241854,  0.97680857,  0.72143228,\n",
       "        -0.93212185],\n",
       "       [-0.50668116,  0.30321123, -0.18462911, -1.29081904, -0.83176696,\n",
       "         0.0125806 ],\n",
       "       [-0.47450147, -0.74596258,  0.30616814, -0.31174409, -0.84005069,\n",
       "        -0.03743306],\n",
       "       [-1.13954842,  0.13534342,  2.23802967, -0.1541918 , -0.82348323,\n",
       "        -0.99324965],\n",
       "       [-1.61688051,  0.58858651, -1.45861346,  0.97680857,  0.90367433,\n",
       "        -0.29305843],\n",
       "       [ 1.23102217, -1.10687837,  1.47572755, -1.70158037, -1.7057004 ,\n",
       "        -0.53201258],\n",
       "       [-0.53886085,  1.34399165, -1.16622361,  0.97680857,  0.41079244,\n",
       "        -1.57118527],\n",
       "       [-0.57104054, -1.28313957, -0.35170902,  0.97680857,  0.49362973,\n",
       "        -0.30972965],\n",
       "       [-0.36723583, -0.93901056,  0.01377829, -0.8125353 ,  0.90367433,\n",
       "        -0.19303111],\n",
       "       [-0.93038043, -0.8131097 , -0.29949655,  0.97680857,  0.15399683,\n",
       "         0.17373572],\n",
       "       [ 1.23102217, -0.93901056, -1.03047118,  0.97680857, -1.34950004,\n",
       "        -0.51534136],\n",
       "       [ 0.41580333,  0.08498308,  0.52546053, -0.28923662, -1.76782837,\n",
       "        -0.05966136],\n",
       "       [-1.52570472,  0.20249055,  1.26687766, -0.1710724 ,  0.87053941,\n",
       "        -0.05410428],\n",
       "       [-1.00010309, -0.96419073,  1.27732015,  0.97680857,  0.90367433,\n",
       "        -0.41531404],\n",
       "       [-0.98937653,  0.60537329, -0.61277139,  0.97680857,  0.90367433,\n",
       "        -0.1541316 ],\n",
       "       [ 1.23102217, -0.8131097 ,  0.3897081 , -0.14856493,  0.88296501,\n",
       "        -1.42670136],\n",
       "       [ 1.23102217, -0.12485168, -0.96781621,  0.97680857, -1.3536419 ,\n",
       "        -0.14301745],\n",
       "       [ 0.29781112,  0.49625921, -0.76940881,  0.97680857, -0.28089896,\n",
       "        -0.37641453],\n",
       "       [ 0.41044004, -1.02294446,  0.92227533,  0.97680857, -0.89389493,\n",
       "         0.02925182],\n",
       "       [-0.72657571, -0.54452121,  2.15448971, -1.62843109,  0.6965811 ,\n",
       "         0.51271718],\n",
       "       [ 1.23102217, -0.09127812, -0.22639909,  0.97680857,  0.59717635,\n",
       "        -1.57118527],\n",
       "       [-0.51204444, -0.36826001,  0.45236307,  0.97680857,  0.80426958,\n",
       "        -0.0096477 ],\n",
       "       [ 1.23102217, -0.35147323,  1.47572755, -1.6621923 ,  0.76285093,\n",
       "        -0.92656478],\n",
       "       [ 0.42116661, -0.23396576,  1.35041762, -0.23859481, -0.09865691,\n",
       "        -0.18191697],\n",
       "       [-0.35650927, -0.33468644, -0.68586885,  0.97680857,  0.90367433,\n",
       "         0.50716011],\n",
       "       [ 1.23102217, -0.86347004,  1.59059499, -0.1710724 ,  0.90367433,\n",
       "        -1.46560088],\n",
       "       [ 0.50697912,  1.44471233, -0.03843418, -0.68874422, -0.43000609,\n",
       "        -0.17080282],\n",
       "       [ 1.23102217, -0.34307984, -0.43524898,  0.97680857, -0.99744154,\n",
       "         0.04036596],\n",
       "       [-0.522771  ,  0.99986264, -0.22639909,  0.97680857,  0.71729042,\n",
       "        -0.31528672],\n",
       "       [ 1.23102217,  1.39435199,  0.88050535, -0.21046048, -0.96430663,\n",
       "        -1.01547795],\n",
       "       [ 1.23102217,  0.87396178,  0.0033358 , -0.14856493, -1.09684629,\n",
       "        -0.0096477 ],\n",
       "       [-1.01082965, -0.51934104, -0.91560374,  0.97680857,  0.31138768,\n",
       "         2.31876598],\n",
       "       [ 1.23102217, -0.67881545,  1.62192248,  0.97680857,  0.90367433,\n",
       "        -1.57118527],\n",
       "       [-1.26826718,  0.69770058, -0.23684158,  0.97680857,  0.90367433,\n",
       "         1.14066646],\n",
       "       [-0.47986475, -1.26635279,  2.61395948, -0.17669927,  0.90367433,\n",
       "         0.78501377],\n",
       "       [ 0.50697912,  0.40393192, -0.41436399,  0.97680857,  0.90367433,\n",
       "        -0.08188965],\n",
       "       [-0.41014208,  0.04301613, -0.16374412,  0.97680857,  0.90367433,\n",
       "         1.01285377],\n",
       "       [ 1.23102217, -0.22557237,  1.31909013, -1.39210266,  0.89953246,\n",
       "         0.02925182],\n",
       "       [-0.99473981,  2.48549275, -1.86587076, -1.40335639,  0.85397195,\n",
       "         2.31876598],\n",
       "       [ 1.23102217,  2.0910034 ,  1.41307258, -2.10108796, -1.49032344,\n",
       "         0.6127445 ],\n",
       "       [-1.33798985,  2.33441172, -0.58144391, -0.22171421,  0.90367433,\n",
       "         1.74083036],\n",
       "       [ 1.23102217,  1.80562812, -1.12445363, -0.16544554,  0.70072296,\n",
       "        -0.03743306],\n",
       "       [-0.58713039, -0.16681864, -0.32038154,  0.97680857,  0.90367433,\n",
       "         2.31876598],\n",
       "       [ 1.23102217,  2.14136374, -0.87383376, -0.14856493,  0.82083704,\n",
       "        -0.10411794],\n",
       "       [ 0.43725645,  0.82360144,  0.49413305,  0.97680857, -0.36787812,\n",
       "         1.20179426],\n",
       "       [ 1.23102217, -0.4605873 , -0.38303651,  0.97680857,  0.73799974,\n",
       "         1.12399524],\n",
       "       [ 0.27099472,  0.6809138 , -1.12445363,  0.97680857,  0.90367433,\n",
       "         1.65747427],\n",
       "       [ 0.50697912,  0.23606411, -0.75896632,  0.97680857,  0.90367433,\n",
       "         1.61857475],\n",
       "       [ 1.23102217, -0.47737408,  0.9849303 ,  0.97680857,  0.90367433,\n",
       "         0.5516167 ],\n",
       "       [ 1.23102217,  0.58858651, -0.84250628,  0.97680857,  0.89953246,\n",
       "         1.34072109],\n",
       "       [ 1.23102217,  1.58739997,  0.72386793, -0.21608734,  0.90367433,\n",
       "         0.98506841],\n",
       "       [ 0.34608066,  1.11737011, -0.27861156,  0.97680857,  0.90367433,\n",
       "         2.31876598],\n",
       "       [ 1.23102217,  1.62097353, -0.82162129,  0.97680857,  0.90367433,\n",
       "         2.31876598]])"
      ]
     },
     "execution_count": 7,
     "metadata": {},
     "output_type": "execute_result"
    }
   ],
   "source": [
    "x = StandardScaler().fit_transform(x)\n",
    "x"
   ]
  },
  {
   "cell_type": "markdown",
   "metadata": {},
   "source": [
    "### ¿Qué efecto hace la función StandardScaler a x? ¿Podrías explicarlo en términos de lo visto en álgebra lineal y estadístico?\n",
    "La función StandardScaler estandariza los datos, es decir, resta a los elementos de las columnas de la matriz su media y luego estandaríza estos datos para que su varianza sea igual a 1. \n",
    "En términos de álgebra lineal, en el caso de la resta de las medias, se trataría de obtener la matriz de datos centrados. En términos estadísticos es obtener una matriz de datos cuyas columnas son desplazadas para que tengan media igual a 0 y varianza = 1, el equivalente a desplazar datos que presentan una distribución normal, a una normal estándar. \n",
    "\n",
    "Ejemplo con la columna 2:"
   ]
  },
  {
   "cell_type": "code",
   "execution_count": 8,
   "metadata": {},
   "outputs": [
    {
     "name": "stdout",
     "output_type": "stream",
     "text": [
      "-3.3306690738754696e-16\n",
      "1.0\n"
     ]
    }
   ],
   "source": [
    "x2 = x[:, 1]\n",
    "print(np.mean(x2))\n",
    "print(np.var(x2))"
   ]
  },
  {
   "cell_type": "markdown",
   "metadata": {},
   "source": [
    "## 7 Dejemos que sklearn haga su trabajo, por ejemplo pidiéndole 2 componentes:"
   ]
  },
  {
   "cell_type": "code",
   "execution_count": 9,
   "metadata": {},
   "outputs": [
    {
     "data": {
      "text/plain": [
       "array([[-2.01270507e+00, -4.45244813e-01],\n",
       "       [-1.64737429e+00, -7.07404376e-01],\n",
       "       [-9.12343263e-01, -1.08981442e+00],\n",
       "       [-1.70143764e+00, -1.48597641e+00],\n",
       "       [-6.01105113e-01, -8.30959336e-01],\n",
       "       [-1.43735008e+00, -8.30509723e-01],\n",
       "       [-4.02997051e-01, -4.66508972e-01],\n",
       "       [-6.01649218e-01, -1.75306556e+00],\n",
       "       [-1.04266407e+00,  7.95769427e-01],\n",
       "       [-1.52471247e+00, -1.81487235e+00],\n",
       "       [-5.55817088e-01,  2.45234002e+00],\n",
       "       [-2.37711008e+00,  1.23921049e+00],\n",
       "       [-3.82476880e-01, -1.20621686e+00],\n",
       "       [-2.98615899e-03,  8.98191259e-01],\n",
       "       [-4.44978154e-01,  2.16060391e-01],\n",
       "       [-1.15227169e+00, -6.97299796e-01],\n",
       "       [-2.21299569e+00, -1.43125600e+00],\n",
       "       [-1.34277622e+00, -7.40576321e-01],\n",
       "       [-6.25907327e-01,  1.00985942e+00],\n",
       "       [ 9.98372634e-01,  1.57700634e-01],\n",
       "       [-6.23048484e-01, -7.15498479e-01],\n",
       "       [-9.35378711e-01, -1.97251719e-02],\n",
       "       [-1.59933819e+00,  1.22381080e+00],\n",
       "       [ 1.53979799e+00,  2.66595825e-01],\n",
       "       [-2.84987283e+00, -5.57125577e-01],\n",
       "       [ 7.99724470e-01, -4.18763964e-01],\n",
       "       [-3.54826730e-03,  7.97491635e-01],\n",
       "       [-4.55822193e-01,  8.69079825e-01],\n",
       "       [ 3.43362702e-01,  5.98718371e-01],\n",
       "       [-6.55586011e-01, -1.53254684e+00],\n",
       "       [-1.09557798e+00, -1.02283951e+00],\n",
       "       [ 4.82619502e-02,  1.80396138e+00],\n",
       "       [-2.72521267e-01,  2.12143640e+00],\n",
       "       [ 1.27739491e+00,  5.41428755e-01],\n",
       "       [-1.06815433e+00,  6.03876802e-01],\n",
       "       [-9.13858930e-02, -1.72930048e+00],\n",
       "       [ 5.44572334e-01, -7.41630251e-01],\n",
       "       [-8.24845536e-01,  2.43133767e-01],\n",
       "       [-1.02666475e+00,  1.92283245e+00],\n",
       "       [-2.64566683e-01,  1.13209725e-02],\n",
       "       [ 4.40443162e-01,  1.20560356e+00],\n",
       "       [-1.61538962e+00,  8.38785225e-01],\n",
       "       [-8.56019479e-01,  6.39491963e-01],\n",
       "       [ 1.17056247e+00,  4.94653963e-01],\n",
       "       [-1.53623561e+00,  1.35686637e+00],\n",
       "       [ 1.02907132e-01, -9.56682042e-01],\n",
       "       [-1.26922654e-01, -1.12698620e+00],\n",
       "       [ 1.12296615e+00,  3.86900017e-01],\n",
       "       [-8.03067989e-01, -8.95458370e-01],\n",
       "       [-2.24915437e-01, -1.40110245e+00],\n",
       "       [ 1.94365198e+00,  1.97207480e-01],\n",
       "       [-1.06002779e+00,  1.48512126e+00],\n",
       "       [ 1.91589033e+00,  7.98112560e-01],\n",
       "       [-7.31536503e-01,  2.62342669e+00],\n",
       "       [ 1.03697742e+00,  1.68890916e-01],\n",
       "       [ 1.44506021e+00,  7.10647154e-01],\n",
       "       [-8.12295043e-01,  7.98635593e-01],\n",
       "       [ 2.98656236e+00, -1.16456437e+00],\n",
       "       [-7.56386076e-01, -1.41111336e+00],\n",
       "       [ 2.66635758e+00, -8.18462782e-03],\n",
       "       [ 1.37520268e+00, -1.18621685e+00],\n",
       "       [ 2.12653071e+00,  6.88111365e-01],\n",
       "       [ 1.46845745e+00, -1.04280025e+00],\n",
       "       [ 1.06602839e+00, -2.28213428e-01],\n",
       "       [ 1.14675346e+00,  5.93445752e-03],\n",
       "       [ 2.38454499e+00, -3.14186833e-01],\n",
       "       [ 2.00607552e+00, -5.77546605e-02],\n",
       "       [ 4.17027069e-01,  9.66628392e-01],\n",
       "       [ 1.99350085e+00, -4.58601998e-01],\n",
       "       [ 1.24654338e+00,  7.77345816e-02],\n",
       "       [ 2.64774748e+00,  2.96970118e-02],\n",
       "       [ 3.00948710e+00, -7.56266520e-01]])"
      ]
     },
     "execution_count": 9,
     "metadata": {},
     "output_type": "execute_result"
    }
   ],
   "source": [
    "from sklearn.decomposition import PCA\n",
    "pca = PCA(n_components=2)\n",
    "principalComponents = pca.fit_transform(x)\n",
    "principalComponents"
   ]
  },
  {
   "cell_type": "markdown",
   "metadata": {},
   "source": [
    "### ¿Cuál es el máximo de componentes principales que puedo pedir?\n",
    "El número máximo de componentes que se podrían pedir es n-1 en una matriz de n columnas. En el caso de nuestro ejercicio, podremos pedir como máximo el número de columnas definidas como \"features\", 6."
   ]
  },
  {
   "cell_type": "code",
   "execution_count": 10,
   "metadata": {},
   "outputs": [
    {
     "data": {
      "text/plain": [
       "array([[-2.01270507e+00, -4.45244813e-01,  1.84175855e+00,\n",
       "         8.80604884e-02, -2.74584585e-01,  4.59018157e-01],\n",
       "       [-1.64737429e+00, -7.07404376e-01,  1.07650577e+00,\n",
       "        -9.88675553e-01,  5.15045662e-01,  5.94802109e-01],\n",
       "       [-9.12343263e-01, -1.08981442e+00,  1.79652712e+00,\n",
       "        -4.00872045e-01, -1.57245381e-01, -2.20856935e-01],\n",
       "       [-1.70143764e+00, -1.48597641e+00,  1.30814455e+00,\n",
       "         2.46364617e-01, -7.97657032e-01,  3.56097191e-01],\n",
       "       [-6.01105113e-01, -8.30959336e-01,  1.53292373e+00,\n",
       "         2.44487100e-01,  5.47044628e-01, -2.29720048e-01],\n",
       "       [-1.43735008e+00, -8.30509723e-01,  7.72842468e-01,\n",
       "        -2.69876053e-01, -8.43456310e-01, -7.83062366e-01],\n",
       "       [-4.02997051e-01, -4.66508972e-01,  1.42548066e+00,\n",
       "         2.04294279e-01,  1.14869292e-01, -5.38774424e-01],\n",
       "       [-6.01649218e-01, -1.75306556e+00,  1.11557608e+00,\n",
       "         6.97089888e-02, -3.94614737e-01, -1.83036120e-01],\n",
       "       [-1.04266407e+00,  7.95769427e-01,  1.14468844e+00,\n",
       "         2.89212666e+00,  8.98148497e-01,  4.19826383e-01],\n",
       "       [-1.52471247e+00, -1.81487235e+00,  1.37289070e-02,\n",
       "        -6.95384723e-02, -4.88360026e-01,  1.89918780e+00],\n",
       "       [-5.55817088e-01,  2.45234002e+00,  1.52779935e+00,\n",
       "         6.21120373e-01, -4.90701574e-02, -6.57279000e-01],\n",
       "       [-2.37711008e+00,  1.23921049e+00, -4.05130316e-01,\n",
       "        -1.15022356e+00, -2.16367724e-01,  6.63675907e-01],\n",
       "       [-3.82476880e-01, -1.20621686e+00,  9.01428807e-01,\n",
       "        -2.23235335e-01, -4.00642983e-01, -1.39961451e-01],\n",
       "       [-2.98615899e-03,  8.98191259e-01,  1.05194373e+00,\n",
       "        -1.26134318e+00,  8.40650294e-01,  1.99387394e-02],\n",
       "       [-4.44978154e-01,  2.16060391e-01,  8.94855538e-01,\n",
       "         1.24959376e+00,  4.69315367e-01,  1.70759094e+00],\n",
       "       [-1.15227169e+00, -6.97299796e-01,  2.15712913e-01,\n",
       "        -8.16030946e-01, -5.65270906e-01,  3.71400350e-01],\n",
       "       [-2.21299569e+00, -1.43125600e+00, -7.04920291e-01,\n",
       "        -1.94348152e-01,  5.20560048e-02, -4.38595358e-01],\n",
       "       [-1.34277622e+00, -7.40576321e-01,  6.38022579e-02,\n",
       "        -4.50642012e-01, -7.80193358e-01,  2.93817471e-01],\n",
       "       [-6.25907327e-01,  1.00985942e+00,  9.36265108e-01,\n",
       "         1.26623830e+00,  2.11509766e-01,  5.08606250e-01],\n",
       "       [ 9.98372634e-01,  1.57700634e-01,  1.48364475e+00,\n",
       "        -8.29754514e-01,  1.42547721e+00, -8.92573008e-02],\n",
       "       [-6.23048484e-01, -7.15498479e-01,  7.36639421e-01,\n",
       "         1.12519952e+00, -1.75975583e-01,  3.39499206e-02],\n",
       "       [-9.35378711e-01, -1.97251719e-02,  5.38586540e-01,\n",
       "        -4.26639724e-02, -6.82347657e-01, -2.16344849e-01],\n",
       "       [-1.59933819e+00,  1.22381080e+00,  2.90019884e-01,\n",
       "         7.34941958e-01,  1.30062364e-01, -1.82135853e+00],\n",
       "       [ 1.53979799e+00,  2.66595825e-01,  1.75038274e+00,\n",
       "        -6.29734754e-01,  1.02100391e+00, -7.04517725e-03],\n",
       "       [-2.84987283e+00, -5.57125577e-01, -1.08681659e+00,\n",
       "         7.47931394e-01, -9.12584241e-01,  2.54636006e-02],\n",
       "       [ 7.99724470e-01, -4.18763964e-01,  7.80284352e-01,\n",
       "        -6.15547764e-01,  2.22546706e+00, -5.41222506e-01],\n",
       "       [-3.54826730e-03,  7.97491635e-01,  6.61774445e-01,\n",
       "        -1.47698810e+00, -1.18599587e-01,  3.47103445e-01],\n",
       "       [-4.55822193e-01,  8.69079825e-01,  4.03972351e-01,\n",
       "         1.69088461e-01, -2.12396795e-02,  1.17285354e+00],\n",
       "       [ 3.43362702e-01,  5.98718371e-01,  9.02356357e-01,\n",
       "        -1.06635705e+00, -4.26247295e-01, -1.22860364e-01],\n",
       "       [-6.55586011e-01, -1.53254684e+00, -4.01166146e-01,\n",
       "        -1.87512904e+00, -2.10494891e-01,  8.07512179e-03],\n",
       "       [-1.09557798e+00, -1.02283951e+00, -3.03551097e-01,\n",
       "         2.66088737e-01, -5.87168672e-01, -9.56270058e-01],\n",
       "       [ 4.82619502e-02,  1.80396138e+00,  6.92221010e-01,\n",
       "         8.43549120e-01,  1.31321844e-01, -5.46984345e-01],\n",
       "       [-2.72521267e-01,  2.12143640e+00,  2.78663412e-01,\n",
       "        -7.90997591e-01, -5.50840863e-02, -4.72821098e-01],\n",
       "       [ 1.27739491e+00,  5.41428755e-01,  8.33727933e-01,\n",
       "        -4.43019933e-01,  7.97645498e-01, -2.50759272e-01],\n",
       "       [-1.06815433e+00,  6.03876802e-01, -1.12219450e+00,\n",
       "        -6.73434795e-01,  1.04205211e+00,  9.28053074e-01],\n",
       "       [-9.13858930e-02, -1.72930048e+00, -5.60856214e-01,\n",
       "        -1.34514735e+00, -1.42608128e-01, -3.62598150e-01],\n",
       "       [ 5.44572334e-01, -7.41630251e-01, -2.96305118e-02,\n",
       "        -8.32976216e-01,  6.14042580e-01, -4.28195762e-01],\n",
       "       [-8.24845536e-01,  2.43133767e-01, -5.92163438e-01,\n",
       "        -1.10370323e+00, -9.13046664e-01, -8.23146551e-01],\n",
       "       [-1.02666475e+00,  1.92283245e+00, -1.64664932e-01,\n",
       "         1.80214476e+00, -8.88133238e-01,  2.26246393e-01],\n",
       "       [-2.64566683e-01,  1.13209725e-02, -1.01706082e+00,\n",
       "        -1.36010877e+00,  1.53748924e+00,  1.89989742e-01],\n",
       "       [ 4.40443162e-01,  1.20560356e+00,  9.32303816e-02,\n",
       "        -6.96221452e-01,  3.14823310e-02, -2.48309138e-01],\n",
       "       [-1.61538962e+00,  8.38785225e-01, -1.50087092e+00,\n",
       "         1.12605338e+00,  5.81698960e-01,  9.20890975e-01],\n",
       "       [-8.56019479e-01,  6.39491963e-01, -8.43837771e-01,\n",
       "         3.32149213e-01, -2.21514443e-01, -3.77266786e-01],\n",
       "       [ 1.17056247e+00,  4.94653963e-01,  3.59299431e-01,\n",
       "        -9.04205602e-01, -1.25161045e-01,  4.00344135e-01],\n",
       "       [-1.53623561e+00,  1.35686637e+00, -1.60898348e+00,\n",
       "        -3.50529250e-01,  8.44739037e-01,  3.98093830e-01],\n",
       "       [ 1.02907132e-01, -9.56682042e-01, -4.57516038e-01,\n",
       "         1.13849157e+00,  6.72877508e-01, -3.87385660e-01],\n",
       "       [-1.26922654e-01, -1.12698620e+00, -8.22706470e-01,\n",
       "        -1.25373685e+00, -3.64735426e-01, -3.24490178e-01],\n",
       "       [ 1.12296615e+00,  3.86900017e-01,  2.57451827e-01,\n",
       "        -2.38569564e-01,  1.00035542e+00, -5.98067874e-01],\n",
       "       [-8.03067989e-01, -8.95458370e-01, -1.36081385e+00,\n",
       "         6.93505258e-01,  1.03053944e+00, -1.18269176e+00],\n",
       "       [-2.24915437e-01, -1.40110245e+00, -1.01725838e+00,\n",
       "         3.44708305e-01,  9.70830766e-02, -5.72480352e-01],\n",
       "       [ 1.94365198e+00,  1.97207480e-01,  9.66841726e-01,\n",
       "        -5.86415947e-01, -1.84639086e+00,  2.30467411e-01],\n",
       "       [-1.06002779e+00,  1.48512126e+00, -1.75280402e+00,\n",
       "        -1.13343507e+00,  1.04232832e+00, -2.71209486e-01],\n",
       "       [ 1.91589033e+00,  7.98112560e-01,  7.90533431e-01,\n",
       "         4.42415579e-02, -2.73005561e-01, -4.62852108e-01],\n",
       "       [-7.31536503e-01,  2.62342669e+00, -6.88580926e-01,\n",
       "         4.90644117e-01, -1.39902406e+00, -2.02838230e-01],\n",
       "       [ 1.03697742e+00,  1.68890916e-01, -5.47218173e-01,\n",
       "        -6.98564118e-01,  6.79973012e-01,  1.25400843e-01],\n",
       "       [ 1.44506021e+00,  7.10647154e-01,  9.71142939e-02,\n",
       "        -4.35797104e-01, -4.48290052e-01,  1.20250019e-03],\n",
       "       [-8.12295043e-01,  7.98635593e-01, -1.58917273e+00,\n",
       "         1.16442902e+00, -4.24577225e-02,  9.34586416e-01],\n",
       "       [ 2.98656236e+00, -1.16456437e+00,  1.14592697e+00,\n",
       "         2.54035230e+00, -1.70764389e-01,  8.07802107e-01],\n",
       "       [-7.56386076e-01, -1.41111336e+00, -1.54872730e+00,\n",
       "         2.98119102e+00, -2.71641577e-01, -9.86087837e-01],\n",
       "       [ 2.66635758e+00, -8.18462782e-03,  8.61519453e-01,\n",
       "         1.85717170e+00,  2.98793575e-02, -4.15116550e-01],\n",
       "       [ 1.37520268e+00, -1.18621685e+00, -9.19332757e-01,\n",
       "         5.93990404e-01,  1.35205033e+00,  4.85345600e-01],\n",
       "       [ 2.12653071e+00,  6.88111365e-01,  2.19992119e-01,\n",
       "        -2.71236516e-01, -1.56965969e+00,  2.03040425e-01],\n",
       "       [ 1.46845745e+00, -1.04280025e+00, -1.07651015e+00,\n",
       "         8.18941395e-01,  1.55776912e+00,  2.66724294e-01],\n",
       "       [ 1.06602839e+00, -2.28213428e-01, -8.50396825e-01,\n",
       "         2.77604041e-02, -7.40217431e-01, -1.08954744e+00],\n",
       "       [ 1.14675346e+00,  5.93445752e-03, -1.18174417e+00,\n",
       "        -9.88224083e-01, -7.12660261e-01,  6.63602014e-01],\n",
       "       [ 2.38454499e+00, -3.14186833e-01, -2.44111239e-01,\n",
       "        -3.28405909e-01, -4.67146123e-01,  3.86065463e-01],\n",
       "       [ 2.00607552e+00, -5.77546605e-02, -5.44786546e-01,\n",
       "        -5.02832755e-01, -6.96011468e-01,  4.66487679e-01],\n",
       "       [ 4.17027069e-01,  9.66628392e-01, -1.71449190e+00,\n",
       "        -7.31244525e-01, -4.48293331e-01,  7.07290885e-02],\n",
       "       [ 1.99350085e+00, -4.58601998e-01, -1.16362867e+00,\n",
       "        -5.10776987e-01, -2.63985203e-01,  5.13360253e-01],\n",
       "       [ 1.24654338e+00,  7.77345816e-02, -1.77642882e+00,\n",
       "         1.27879513e+00,  1.75087451e-01, -1.06465188e-01],\n",
       "       [ 2.64774748e+00,  2.96970118e-02, -7.75093906e-01,\n",
       "         2.78545993e-01, -9.38416057e-01, -1.51454153e-01],\n",
       "       [ 3.00948710e+00, -7.56266520e-01, -1.39099691e+00,\n",
       "         2.58634836e-01, -5.68697069e-01,  1.06573229e-01]])"
      ]
     },
     "execution_count": 10,
     "metadata": {},
     "output_type": "execute_result"
    }
   ],
   "source": [
    "pca = PCA(n_components=6)\n",
    "principalComponents = pca.fit_transform(x)\n",
    "principalComponents"
   ]
  },
  {
   "cell_type": "markdown",
   "metadata": {},
   "source": [
    "## 8 Fácilmente se puede formar el DataFrame de componentes principales:"
   ]
  },
  {
   "cell_type": "code",
   "execution_count": 11,
   "metadata": {},
   "outputs": [],
   "source": [
    "matrixComponents = pd.DataFrame(data = principalComponents, columns = ['principal component 1', 'principal component 2', \n",
    "                                                                       'principal component 3' , 'principal component 4',\n",
    "                                                                       'principal component 5', 'principal component 6'])"
   ]
  },
  {
   "cell_type": "code",
   "execution_count": 12,
   "metadata": {},
   "outputs": [
    {
     "data": {
      "text/html": [
       "<div>\n",
       "<style scoped>\n",
       "    .dataframe tbody tr th:only-of-type {\n",
       "        vertical-align: middle;\n",
       "    }\n",
       "\n",
       "    .dataframe tbody tr th {\n",
       "        vertical-align: top;\n",
       "    }\n",
       "\n",
       "    .dataframe thead th {\n",
       "        text-align: right;\n",
       "    }\n",
       "</style>\n",
       "<table border=\"1\" class=\"dataframe\">\n",
       "  <thead>\n",
       "    <tr style=\"text-align: right;\">\n",
       "      <th></th>\n",
       "      <th>principal component 1</th>\n",
       "      <th>principal component 2</th>\n",
       "      <th>principal component 3</th>\n",
       "      <th>principal component 4</th>\n",
       "      <th>principal component 5</th>\n",
       "      <th>principal component 6</th>\n",
       "    </tr>\n",
       "  </thead>\n",
       "  <tbody>\n",
       "    <tr>\n",
       "      <th>0</th>\n",
       "      <td>-2.012705</td>\n",
       "      <td>-0.445245</td>\n",
       "      <td>1.841759</td>\n",
       "      <td>0.088060</td>\n",
       "      <td>-0.274585</td>\n",
       "      <td>0.459018</td>\n",
       "    </tr>\n",
       "    <tr>\n",
       "      <th>1</th>\n",
       "      <td>-1.647374</td>\n",
       "      <td>-0.707404</td>\n",
       "      <td>1.076506</td>\n",
       "      <td>-0.988676</td>\n",
       "      <td>0.515046</td>\n",
       "      <td>0.594802</td>\n",
       "    </tr>\n",
       "    <tr>\n",
       "      <th>2</th>\n",
       "      <td>-0.912343</td>\n",
       "      <td>-1.089814</td>\n",
       "      <td>1.796527</td>\n",
       "      <td>-0.400872</td>\n",
       "      <td>-0.157245</td>\n",
       "      <td>-0.220857</td>\n",
       "    </tr>\n",
       "    <tr>\n",
       "      <th>3</th>\n",
       "      <td>-1.701438</td>\n",
       "      <td>-1.485976</td>\n",
       "      <td>1.308145</td>\n",
       "      <td>0.246365</td>\n",
       "      <td>-0.797657</td>\n",
       "      <td>0.356097</td>\n",
       "    </tr>\n",
       "    <tr>\n",
       "      <th>4</th>\n",
       "      <td>-0.601105</td>\n",
       "      <td>-0.830959</td>\n",
       "      <td>1.532924</td>\n",
       "      <td>0.244487</td>\n",
       "      <td>0.547045</td>\n",
       "      <td>-0.229720</td>\n",
       "    </tr>\n",
       "  </tbody>\n",
       "</table>\n",
       "</div>"
      ],
      "text/plain": [
       "   principal component 1  principal component 2  principal component 3  \\\n",
       "0              -2.012705              -0.445245               1.841759   \n",
       "1              -1.647374              -0.707404               1.076506   \n",
       "2              -0.912343              -1.089814               1.796527   \n",
       "3              -1.701438              -1.485976               1.308145   \n",
       "4              -0.601105              -0.830959               1.532924   \n",
       "\n",
       "   principal component 4  principal component 5  principal component 6  \n",
       "0               0.088060              -0.274585               0.459018  \n",
       "1              -0.988676               0.515046               0.594802  \n",
       "2              -0.400872              -0.157245              -0.220857  \n",
       "3               0.246365              -0.797657               0.356097  \n",
       "4               0.244487               0.547045              -0.229720  "
      ]
     },
     "execution_count": 12,
     "metadata": {},
     "output_type": "execute_result"
    }
   ],
   "source": [
    "matrixComponents.head()"
   ]
  },
  {
   "cell_type": "markdown",
   "metadata": {},
   "source": [
    "### ¿Cómo sé qué tantas componentes es pertinente tomar en cuenta para mis datos?\n",
    "Tantas como sea necesario para explicar satisfactoriamente el fenómeno estudiado."
   ]
  },
  {
   "cell_type": "markdown",
   "metadata": {},
   "source": [
    "## 9 Usa los comandos explained_variance_ o explained_variance_ratio_ para tomar una decisión informada. Por ejemplo, grafica número de componentes vs el radio de la varianza explicada."
   ]
  },
  {
   "cell_type": "code",
   "execution_count": 13,
   "metadata": {},
   "outputs": [
    {
     "name": "stdout",
     "output_type": "stream",
     "text": [
      "[1.91 1.11 1.04 1.03 0.6  0.4 ]\n",
      "[0.31 0.18 0.17 0.17 0.1  0.06]\n"
     ]
    }
   ],
   "source": [
    "print(pca.explained_variance_.round(2))\n",
    "print(pca.explained_variance_ratio_.round(2))"
   ]
  },
  {
   "cell_type": "markdown",
   "metadata": {},
   "source": [
    "### Graficamos la suma acumulada del radio de la varianza explicada"
   ]
  },
  {
   "cell_type": "code",
   "execution_count": 14,
   "metadata": {},
   "outputs": [
    {
     "data": {
      "image/png": "[encoded data removed]",
      "text/plain": [
       "<Figure size 432x288 with 1 Axes>"
      ]
     },
     "metadata": {
      "needs_background": "light"
     },
     "output_type": "display_data"
    }
   ],
   "source": [
    "plt.plot(np.cumsum(pca.explained_variance_ratio_))\n",
    "plt.xlabel('Número de componentes')\n",
    "plt.ylabel('Varianza explicada acumulada');"
   ]
  },
  {
   "cell_type": "markdown",
   "metadata": {},
   "source": [
    "### Como se observa, las primeras 4 componentes explican el 83% de la varianza. Con la primera componente explicando 31%, mientras que las 2, 3 y 4 la varianza en un rango muy similar. Si tomamos la primera y una de las otras 3 ya estaríamos explicando cerca de 50% de la varianza."
   ]
  },
  {
   "cell_type": "markdown",
   "metadata": {},
   "source": [
    "## 10 Grafica las dos o tres primeras componentes principales.\n",
    "### En este caso se grafica la componente 1 contra las otras 3 componentes que explican 17% o 18% de la varianza cada una."
   ]
  },
  {
   "cell_type": "code",
   "execution_count": 15,
   "metadata": {},
   "outputs": [],
   "source": [
    "contarget = pd.concat([df,matrixComponents], axis = 1) "
   ]
  },
  {
   "cell_type": "code",
   "execution_count": 16,
   "metadata": {},
   "outputs": [
    {
     "data": {
      "image/png": "[encoded data removed]",
      "text/plain": [
       "<Figure size 576x360 with 1 Axes>"
      ]
     },
     "metadata": {
      "needs_background": "light"
     },
     "output_type": "display_data"
    }
   ],
   "source": [
    "fig = plt.figure(figsize = (8,5)) \n",
    "ax = fig.add_subplot(1,1,1) \n",
    "ax.set_xlabel('Componente principal 1', fontsize = 15) \n",
    "ax.set_ylabel('Componente principal 2', fontsize = 15) \n",
    "ax.set_title('PCA Componentes 1 y 2', fontsize = 20) \n",
    "targets = ['a', 'b', 'c', 'd', 'e'] \n",
    "colors = ['r', 'g', 'b','c','m'] \n",
    "for target, color in zip(targets,colors): \n",
    "    indicesToKeep = contarget['Target'] == target  \n",
    "    ax.scatter(contarget.loc[indicesToKeep, 'principal component 1'] , \n",
    "               contarget.loc[indicesToKeep, 'principal component 2'] , \n",
    "               c = color , s = 50) \n",
    "    ax.legend(targets) \n",
    "    ax.grid()"
   ]
  },
  {
   "cell_type": "code",
   "execution_count": 17,
   "metadata": {},
   "outputs": [
    {
     "data": {
      "image/png": "[encoded data removed]",
      "text/plain": [
       "<Figure size 576x360 with 1 Axes>"
      ]
     },
     "metadata": {
      "needs_background": "light"
     },
     "output_type": "display_data"
    }
   ],
   "source": [
    "fig = plt.figure(figsize = (8,5)) \n",
    "ax = fig.add_subplot(1,1,1) \n",
    "ax.set_xlabel('Componente principal 1', fontsize = 15) \n",
    "ax.set_ylabel('Componente principal 3', fontsize = 15) \n",
    "ax.set_title('PCA Componentes 1 y 3', fontsize = 20) \n",
    "targets = ['a', 'b', 'c', 'd', 'e'] \n",
    "colors = ['r', 'g', 'b','c','m'] \n",
    "for target, color in zip(targets,colors): \n",
    "    indicesToKeep = contarget['Target'] == target  \n",
    "    ax.scatter(contarget.loc[indicesToKeep, 'principal component 1'] , \n",
    "               contarget.loc[indicesToKeep, 'principal component 3'] , \n",
    "               c = color , s = 50) \n",
    "    ax.legend(targets) \n",
    "    ax.grid()"
   ]
  },
  {
   "cell_type": "markdown",
   "metadata": {},
   "source": [
    "### Al graficar las componentes 1 y 3, se observan agrupamientos al señalar con color los resultados de la columna target. Estas dos componentes estarían explicando el 48% de la varianza."
   ]
  },
  {
   "cell_type": "code",
   "execution_count": 18,
   "metadata": {},
   "outputs": [
    {
     "data": {
      "image/png": "[encoded data removed]",
      "text/plain": [
       "<Figure size 576x360 with 1 Axes>"
      ]
     },
     "metadata": {
      "needs_background": "light"
     },
     "output_type": "display_data"
    }
   ],
   "source": [
    "fig = plt.figure(figsize = (8,5)) \n",
    "ax = fig.add_subplot(1,1,1) \n",
    "ax.set_xlabel('Componente principal 1', fontsize = 15) \n",
    "ax.set_ylabel('Componente principal 4', fontsize = 15) \n",
    "ax.set_title('PCA Componentes 1 y 4', fontsize = 20) \n",
    "targets = ['a', 'b', 'c', 'd', 'e'] \n",
    "colors = ['r', 'g', 'b','c','m'] \n",
    "for target, color in zip(targets,colors): \n",
    "    indicesToKeep = contarget['Target'] == target  \n",
    "    ax.scatter(contarget.loc[indicesToKeep, 'principal component 1'] , \n",
    "               contarget.loc[indicesToKeep, 'principal component 4'] , \n",
    "               c = color , s = 50) \n",
    "    ax.legend(targets) \n",
    "    ax.grid()"
   ]
  }
 ],
 "metadata": {
  "kernelspec": {
   "display_name": "Python 3",
   "language": "python",
   "name": "python3"
  },
  "language_info": {
   "codemirror_mode": {
    "name": "ipython",
    "version": 3
   },
   "file_extension": ".py",
   "mimetype": "text/x-python",
   "name": "python",
   "nbconvert_exporter": "python",
   "pygments_lexer": "ipython3",
   "version": "3.7.6"
  }
 },
 "nbformat": 4,
 "nbformat_minor": 4
}
