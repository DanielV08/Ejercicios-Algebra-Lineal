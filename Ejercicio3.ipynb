{
 "cells": [
  {
   "cell_type": "markdown",
   "metadata": {},
   "source": [
    "# Descenso de gradiente: Ejercicio 3"
   ]
  },
  {
   "cell_type": "markdown",
   "metadata": {},
   "source": [
    "## En el blog https://towardsdatascience.com/linear-regression-using-gradient-descent-97a6c8700931 se explica conclaridad como usar el descenso de gradiente para un problema simple de regresión lineal. Aplícalo a algún conjunto de datos que quieras en una libreta de Jupyter explicando cada paso de manera cuidadosa."
   ]
  },
  {
   "cell_type": "markdown",
   "metadata": {},
   "source": [
    "### Cargamos los paquetes necesarios y definimos el tamaño de los gráficos."
   ]
  },
  {
   "cell_type": "code",
   "execution_count": 1,
   "metadata": {},
   "outputs": [],
   "source": [
    "import numpy as np\n",
    "import pandas as pd\n",
    "import matplotlib.pyplot as plt\n",
    "plt.rcParams['figure.figsize'] = (12.0, 9.0)"
   ]
  },
  {
   "cell_type": "markdown",
   "metadata": {},
   "source": [
    "### Cargamos y procesamos los datos provenientes del archivo \"DatosE3.csv\", a su vez definimos las X, como variable independiente, y Y, como variable dependiente. Por último se ilustran en un gráfico de dispersión."
   ]
  },
  {
   "cell_type": "code",
   "execution_count": 2,
   "metadata": {},
   "outputs": [
    {
     "data": {
      "image/png": "[encoded data removed]",
      "text/plain": [
       "<Figure size 864x648 with 1 Axes>"
      ]
     },
     "metadata": {
      "needs_background": "light"
     },
     "output_type": "display_data"
    }
   ],
   "source": [
    "data = pd.read_csv('DatosE3.csv')\n",
    "X = data.iloc[:, 0]\n",
    "Y = data.iloc[:, 1]\n",
    "plt.scatter(X, Y)\n",
    "plt.show()"
   ]
  },
  {
   "cell_type": "markdown",
   "metadata": {},
   "source": [
    "### Se construye el modelo lineal donde \"m\" es la pendiente de la recta y \"c\" la constante, o el valor de Y cuando X vale 0. Nuestro modelo trata de obtener los mejores valores de \"m\" y \"c\" que resulten en el menor error de nuestros valores de Y estimados respecto a los valores de Y observados.\n",
    "### Y= mX + c"
   ]
  },
  {
   "cell_type": "markdown",
   "metadata": {},
   "source": [
    "### Para llegar a los valores de \"m\" y \"c\" que mejor se adapten al fenómeno estudiado se elige el método de descenso de gradiente.\n",
    "### De inicio nuestros valores de \"m\" y \"c\" son iguales a 0. \n",
    "### Se define \"L\" como nuestra tasa de aprendizaje, es decir que tanto van variando los valores de m en cada paso, para este ejercicio L= 0.0001 para obtener mayor precisión.\n",
    "### epoch es el número de iteraciones para llevar a cabo el descenso de grandiente. Para este ejercicio se llevaran a cabo 1000 iteraciones"
   ]
  },
  {
   "cell_type": "code",
   "execution_count": 3,
   "metadata": {},
   "outputs": [],
   "source": [
    "m = 0\n",
    "c = 0\n",
    "\n",
    "L = 0.0001  # Tasa de aprendizaje\n",
    "epochs = 1000  # Número de iteraciones para llevar a cabo el descenso de gradiente\n",
    "\n",
    "n = float(len(X)) # Número de valores de X"
   ]
  },
  {
   "cell_type": "markdown",
   "metadata": {},
   "source": [
    "### Loss  es el error de nuestros valores estimados m y c para obtener Y respecto a los valores observados de Y. Para minimizar este error se obtiene la función del error cuadrático medio.\n",
    "\n",
    "### Para llevar a cabo el descenso de gradiente se obtienen las derivadas parciales de la función de error cuadrático medio respecto a \"m\" y respecto a \"c\", y se actualizan sus valores para la siguiente iteración."
   ]
  },
  {
   "cell_type": "code",
   "execution_count": 4,
   "metadata": {},
   "outputs": [
    {
     "name": "stdout",
     "output_type": "stream",
     "text": [
      "0.8329784315988901 0.13052040388019343\n"
     ]
    }
   ],
   "source": [
    "for i in range(epochs): \n",
    "    Y_pred = m*X + c  # Valor de Y resultante del modelo\n",
    "    D_m = (-2/n) * sum(X * (Y - Y_pred))  # Derivada parcial de la función de error cuadrático medio respecto a m\n",
    "    D_c = (-2/n) * sum(Y - Y_pred)   # Derivada parcial de la función de error cuadrático medio respecto a c\n",
    "    m = m - L * D_m  # Valor actualizado de m\n",
    "    c = c - L * D_c  # Valor actualizado de c\n",
    "    \n",
    "print (m, c) #Valores óptimos de m y c resultantes del descenso de gradiente"
   ]
  },
  {
   "cell_type": "markdown",
   "metadata": {},
   "source": [
    "### Con los valores de m y c óptimos en nuestro modelo lineal, obtenemos los valores de Y estimados para cada valor de X"
   ]
  },
  {
   "cell_type": "code",
   "execution_count": 5,
   "metadata": {},
   "outputs": [
    {
     "data": {
      "image/png": "[encoded data removed]",
      "text/plain": [
       "<Figure size 864x648 with 1 Axes>"
      ]
     },
     "metadata": {
      "needs_background": "light"
     },
     "output_type": "display_data"
    }
   ],
   "source": [
    "Y_pred = m*X + c\n",
    "\n",
    "plt.scatter(X, Y) \n",
    "plt.plot([min(X), max(X)], [min(Y_pred), max(Y_pred)], color='red')  # Línea de regresión\n",
    "plt.show()"
   ]
  },
  {
   "cell_type": "markdown",
   "metadata": {},
   "source": [
    "## Extra: Teóricamente, este problema de regresión lineal se puede resolver usando únicamente álgebra lineal (pero no es muy eficiente computacionalmente). ¿Podrías explicar cómo? Busca por ejemplo cómo se resuelve usando SVD.\n",
    "\n"
   ]
  },
  {
   "cell_type": "markdown",
   "metadata": {},
   "source": [
    "### Para resolver este problema con álgebra lineal se pueden obtener la descomposición en valores singulares de nuestra matriz de datos. Truncando las matrices de valores singulares a rangos menores que la matriz original se pueden obtener aproximaciones que sean las que mejor reduzcan el error cuadrático medio, entre más se aproxime el rango solicitado de las matrices de valores singulares a la matriz de datos mayor la presición del cálculo, sin embargo, en matrices de rango muy alto el método podría resultar poco eficiente para obtener aproximaciones precisas, por lo que se puede preferir otros métodos."
   ]
  }
 ],
 "metadata": {
  "kernelspec": {
   "display_name": "Python 3",
   "language": "python",
   "name": "python3"
  },
  "language_info": {
   "codemirror_mode": {
    "name": "ipython",
    "version": 3
   },
   "file_extension": ".py",
   "mimetype": "text/x-python",
   "name": "python",
   "nbconvert_exporter": "python",
   "pygments_lexer": "ipython3",
   "version": "3.7.6"
  }
 },
 "nbformat": 4,
 "nbformat_minor": 4
}
